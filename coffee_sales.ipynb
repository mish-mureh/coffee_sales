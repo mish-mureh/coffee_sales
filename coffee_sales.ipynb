{
 "cells": [
  {
   "cell_type": "markdown",
   "id": "33ca4cf1-a015-4c94-b05e-0129e275cad2",
   "metadata": {},
   "source": [
    "# __Coffee Sales Analysis for Brew Haven Coffee__\n"
   ]
  },
  {
   "cell_type": "markdown",
   "id": "4895e3f2-7941-48df-9028-a436bdefdbd1",
   "metadata": {},
   "source": [
    "## Introduction\n",
    "This Jupyter Notebook analyzes transaction data from Brew Haven Coffee to uncover the reasons behind inconsistent sales performance. Management currently lacks clarity on how factors like payment methods, customer timing, and product mix influence overall revenue. By examining attributes such as time of day, day of the week, month, and customer preferences within the sales records, this analysis aims to identify clear customer behavior trends and key sales patterns. The ultimate goal is to provide actionable insights that will help Brew Haven's management optimize operations, maximize revenue during peak periods, and stabilize business flow during slower times. To know more about the dataset [click here](https://www.kaggle.com/datasets/navjotkaushal/coffee-sales-dataset?resource=download)"
   ]
  },
  {
   "cell_type": "markdown",
   "id": "00d6f79d-98ba-4ae7-bcae-99ea2ab345fa",
   "metadata": {},
   "source": [
    "## 1. Business Understanding\n",
    "Brew Haven Coffee's management noticed that sales feel inconsistent: some months they are packed, while other times business is slow. They are also unsure whether payment methods, customer timing, or product mix are impacting revenue. The dataset used to solve the issues contains coffee shop transaction records, including details about sales, payment type, time of purchase, and customer preferences.\n",
    "With attributes covering time of day, weekdays, months, coffee types, and revenue, this dataset provides a strong foundation for analyzing customer behavior, sales patterns, and business performance trends.\n",
    "\n",
    "### Research Questions \n",
    "1. Which product brings more revenue?\n",
    "2. Do trends depend on the day of the week, month or time of the day?\n",
    "3. Are there patterns in purchase preferences?(Segment the customers and the products)\n",
    "\n",
    "### Objectives\n",
    "1. To find out which product brings more revenue\n",
    "2. To find out if trends depend on the day of the week, month or time of the day\n",
    "3. To find out the patterns in purchase preferences\n"
   ]
  },
  {
   "cell_type": "markdown",
   "id": "52276f0b-ea38-41a3-86d2-6397888702f5",
   "metadata": {},
   "source": [
    "## 2. Data Understanding\n",
    "Columns (features):\n",
    "\n",
    "- hour_of_day → Hour of purchase (0–23)\n",
    "- cash_type → Mode of payment (cash / card)\n",
    "- money → Transaction amount (in local currency)\n",
    "- coffee_name → Type of coffee purchased (e.g., Latte, Americano, Hot Chocolate)\n",
    "- Time_of_Day → Categorized time of purchase (Morning, Afternoon, Night)\n",
    "- Weekday → Day of the week (e.g., Mon, Tue, …)\n",
    "- Month_name → Month of purchase (e.g., Jan, Feb, Mar)\n",
    "- Weekdaysort → Numeric representation for weekday ordering (1 = Mon, 7 = Sun)\n",
    "- Monthsort → Numeric representation for month ordering (1 = Jan, 12 = Dec)\n",
    "- Date → Date of transaction (YYYY-MM-DD)\n",
    "- Time → Exact time of transaction (HH:MM:SS)\n",
    "\n",
    "Use Cases-\n",
    "Power BI / Tableau dashboards\n",
    "Python data visualization (Matplotlib, Seaborn, Plotly)\n",
    "Data storytelling projects\n",
    "Business intelligence & decision-making simulations\n",
    "Training projects for beginners in data visualization & analytics"
   ]
  },
  {
   "cell_type": "code",
   "execution_count": 1,
   "id": "4942965b-2e88-4a92-9c42-abc227ea8677",
   "metadata": {},
   "outputs": [],
   "source": [
    "import pandas as pd\n",
    "import seaborn as sns\n",
    "import matplotlib.pyplot as plt\n",
    "%matplotlib inline"
   ]
  },
  {
   "cell_type": "code",
   "execution_count": 2,
   "id": "15416efc-cb71-4c8d-80ce-a3a5926e8786",
   "metadata": {},
   "outputs": [],
   "source": [
    "# enhances my visuals\n",
    "# Set global style\n",
    "plt.style.use('dark_background')  # Black background\n",
    "\n",
    "# Custom rcParams (global settings)\n",
    "plt.rcParams.update({\n",
    "    \"axes.edgecolor\": \"white\",     # Axis border\n",
    "    \"axes.labelcolor\": \"white\",    # X/Y labels\n",
    "    \"xtick.color\": \"white\",        # X ticks\n",
    "    \"ytick.color\": \"white\",        # Y ticks\n",
    "    \"text.color\": \"white\",         # Default text\n",
    "    \"legend.edgecolor\": \"white\",   # Legend border\n",
    "    \"figure.facecolor\": \"black\",   # Figure background\n",
    "    \"axes.facecolor\": \"black\",     # Plot background\n",
    "\n",
    "# Global rcParams (applies to all plots)\n",
    "\n",
    "    # Enhancements\n",
    "    \"axes.titlesize\": 16,            # Bigger title\n",
    "    \"axes.titleweight\": \"bold\",      # Bold title\n",
    "    \"axes.labelsize\": 12,            # Bigger axis labels\n",
    "    \"xtick.labelsize\": 10,           # Bigger tick labels\n",
    "    \"ytick.labelsize\": 10,\n",
    "    \"legend.fontsize\": 10,           # Bigger legend\n",
    "    \"legend.loc\": \"upper center\",    # Legend on top (by default)\n",
    "})\n"
   ]
  },
  {
   "cell_type": "markdown",
   "id": "b482312f-0438-44ac-abd2-9d88253db244",
   "metadata": {},
   "source": [
    "### Data Exploration"
   ]
  },
  {
   "cell_type": "markdown",
   "id": "fa73b300-50e3-45c0-ba06-675470e25b8b",
   "metadata": {},
   "source": [
    "#### load the datasets"
   ]
  },
  {
   "cell_type": "code",
   "execution_count": 3,
   "id": "ba2b3042-72d9-403c-b664-54ecbf7f2242",
   "metadata": {},
   "outputs": [
    {
     "data": {
      "text/html": [
       "<div>\n",
       "<style scoped>\n",
       "    .dataframe tbody tr th:only-of-type {\n",
       "        vertical-align: middle;\n",
       "    }\n",
       "\n",
       "    .dataframe tbody tr th {\n",
       "        vertical-align: top;\n",
       "    }\n",
       "\n",
       "    .dataframe thead th {\n",
       "        text-align: right;\n",
       "    }\n",
       "</style>\n",
       "<table border=\"1\" class=\"dataframe\">\n",
       "  <thead>\n",
       "    <tr style=\"text-align: right;\">\n",
       "      <th></th>\n",
       "      <th>hour_of_day</th>\n",
       "      <th>cash_type</th>\n",
       "      <th>money</th>\n",
       "      <th>coffee_name</th>\n",
       "      <th>Time_of_Day</th>\n",
       "      <th>Weekday</th>\n",
       "      <th>Month_name</th>\n",
       "      <th>Weekdaysort</th>\n",
       "      <th>Monthsort</th>\n",
       "      <th>Date</th>\n",
       "      <th>Time</th>\n",
       "    </tr>\n",
       "  </thead>\n",
       "  <tbody>\n",
       "    <tr>\n",
       "      <th>0</th>\n",
       "      <td>10</td>\n",
       "      <td>card</td>\n",
       "      <td>38.7</td>\n",
       "      <td>Latte</td>\n",
       "      <td>Morning</td>\n",
       "      <td>Fri</td>\n",
       "      <td>Mar</td>\n",
       "      <td>5</td>\n",
       "      <td>3</td>\n",
       "      <td>2024-03-01</td>\n",
       "      <td>10:15:50.520000</td>\n",
       "    </tr>\n",
       "    <tr>\n",
       "      <th>1</th>\n",
       "      <td>12</td>\n",
       "      <td>card</td>\n",
       "      <td>38.7</td>\n",
       "      <td>Hot Chocolate</td>\n",
       "      <td>Afternoon</td>\n",
       "      <td>Fri</td>\n",
       "      <td>Mar</td>\n",
       "      <td>5</td>\n",
       "      <td>3</td>\n",
       "      <td>2024-03-01</td>\n",
       "      <td>12:19:22.539000</td>\n",
       "    </tr>\n",
       "    <tr>\n",
       "      <th>2</th>\n",
       "      <td>12</td>\n",
       "      <td>card</td>\n",
       "      <td>38.7</td>\n",
       "      <td>Hot Chocolate</td>\n",
       "      <td>Afternoon</td>\n",
       "      <td>Fri</td>\n",
       "      <td>Mar</td>\n",
       "      <td>5</td>\n",
       "      <td>3</td>\n",
       "      <td>2024-03-01</td>\n",
       "      <td>12:20:18.089000</td>\n",
       "    </tr>\n",
       "    <tr>\n",
       "      <th>3</th>\n",
       "      <td>13</td>\n",
       "      <td>card</td>\n",
       "      <td>28.9</td>\n",
       "      <td>Americano</td>\n",
       "      <td>Afternoon</td>\n",
       "      <td>Fri</td>\n",
       "      <td>Mar</td>\n",
       "      <td>5</td>\n",
       "      <td>3</td>\n",
       "      <td>2024-03-01</td>\n",
       "      <td>13:46:33.006000</td>\n",
       "    </tr>\n",
       "    <tr>\n",
       "      <th>4</th>\n",
       "      <td>13</td>\n",
       "      <td>card</td>\n",
       "      <td>38.7</td>\n",
       "      <td>Latte</td>\n",
       "      <td>Afternoon</td>\n",
       "      <td>Fri</td>\n",
       "      <td>Mar</td>\n",
       "      <td>5</td>\n",
       "      <td>3</td>\n",
       "      <td>2024-03-01</td>\n",
       "      <td>13:48:14.626000</td>\n",
       "    </tr>\n",
       "  </tbody>\n",
       "</table>\n",
       "</div>"
      ],
      "text/plain": [
       "   hour_of_day cash_type  money    coffee_name Time_of_Day Weekday Month_name  \\\n",
       "0           10      card   38.7          Latte     Morning     Fri        Mar   \n",
       "1           12      card   38.7  Hot Chocolate   Afternoon     Fri        Mar   \n",
       "2           12      card   38.7  Hot Chocolate   Afternoon     Fri        Mar   \n",
       "3           13      card   28.9      Americano   Afternoon     Fri        Mar   \n",
       "4           13      card   38.7          Latte   Afternoon     Fri        Mar   \n",
       "\n",
       "   Weekdaysort  Monthsort        Date             Time  \n",
       "0            5          3  2024-03-01  10:15:50.520000  \n",
       "1            5          3  2024-03-01  12:19:22.539000  \n",
       "2            5          3  2024-03-01  12:20:18.089000  \n",
       "3            5          3  2024-03-01  13:46:33.006000  \n",
       "4            5          3  2024-03-01  13:48:14.626000  "
      ]
     },
     "execution_count": 3,
     "metadata": {},
     "output_type": "execute_result"
    }
   ],
   "source": [
    "df = pd.read_csv(\"data/Coffe_sales.csv\")\n",
    "df.head()"
   ]
  },
  {
   "cell_type": "code",
   "execution_count": 4,
   "id": "59a350bb-b6ca-48ee-bda0-b675c49d923e",
   "metadata": {},
   "outputs": [
    {
     "name": "stdout",
     "output_type": "stream",
     "text": [
      "<class 'pandas.core.frame.DataFrame'>\n",
      "RangeIndex: 3547 entries, 0 to 3546\n",
      "Data columns (total 11 columns):\n",
      " #   Column       Non-Null Count  Dtype  \n",
      "---  ------       --------------  -----  \n",
      " 0   hour_of_day  3547 non-null   int64  \n",
      " 1   cash_type    3547 non-null   object \n",
      " 2   money        3547 non-null   float64\n",
      " 3   coffee_name  3547 non-null   object \n",
      " 4   Time_of_Day  3547 non-null   object \n",
      " 5   Weekday      3547 non-null   object \n",
      " 6   Month_name   3547 non-null   object \n",
      " 7   Weekdaysort  3547 non-null   int64  \n",
      " 8   Monthsort    3547 non-null   int64  \n",
      " 9   Date         3547 non-null   object \n",
      " 10  Time         3547 non-null   object \n",
      "dtypes: float64(1), int64(3), object(7)\n",
      "memory usage: 304.9+ KB\n"
     ]
    }
   ],
   "source": [
    "df.info()"
   ]
  },
  {
   "cell_type": "code",
   "execution_count": null,
   "id": "866eabcd-f87e-41f1-9913-189c4fdfe337",
   "metadata": {},
   "outputs": [],
   "source": [
    "\"\"\"\n",
    "it has 3547 entries, 11 columns.\n",
    "the Dtypes are :- int64\n",
    "                  object\n",
    "                  float64\n",
    "But date and time are classified as object which is not cool\n",
    "\"\"\""
   ]
  },
  {
   "cell_type": "code",
   "execution_count": 6,
   "id": "afa7cbe0-b32c-46aa-a846-6374fab0aec3",
   "metadata": {},
   "outputs": [
    {
     "data": {
      "text/plain": [
       "hour_of_day    0\n",
       "cash_type      0\n",
       "money          0\n",
       "coffee_name    0\n",
       "Time_of_Day    0\n",
       "Weekday        0\n",
       "Month_name     0\n",
       "Weekdaysort    0\n",
       "Monthsort      0\n",
       "Date           0\n",
       "Time           0\n",
       "dtype: int64"
      ]
     },
     "execution_count": 6,
     "metadata": {},
     "output_type": "execute_result"
    }
   ],
   "source": [
    "# check for null values\n",
    "df.isnull().sum()"
   ]
  },
  {
   "cell_type": "code",
   "execution_count": null,
   "id": "cc165948-8427-43ac-94a4-75854808be61",
   "metadata": {},
   "outputs": [],
   "source": [
    "\"\"\"\n",
    "There are no null values\n",
    "\"\"\""
   ]
  },
  {
   "cell_type": "code",
   "execution_count": 8,
   "id": "895af77c-cf38-42a3-a09a-6ff5c2d730af",
   "metadata": {},
   "outputs": [
    {
     "data": {
      "text/html": [
       "<div>\n",
       "<style scoped>\n",
       "    .dataframe tbody tr th:only-of-type {\n",
       "        vertical-align: middle;\n",
       "    }\n",
       "\n",
       "    .dataframe tbody tr th {\n",
       "        vertical-align: top;\n",
       "    }\n",
       "\n",
       "    .dataframe thead th {\n",
       "        text-align: right;\n",
       "    }\n",
       "</style>\n",
       "<table border=\"1\" class=\"dataframe\">\n",
       "  <thead>\n",
       "    <tr style=\"text-align: right;\">\n",
       "      <th></th>\n",
       "      <th>hour_of_day</th>\n",
       "      <th>money</th>\n",
       "      <th>Weekdaysort</th>\n",
       "      <th>Monthsort</th>\n",
       "    </tr>\n",
       "  </thead>\n",
       "  <tbody>\n",
       "    <tr>\n",
       "      <th>count</th>\n",
       "      <td>3547.000000</td>\n",
       "      <td>3547.000000</td>\n",
       "      <td>3547.000000</td>\n",
       "      <td>3547.000000</td>\n",
       "    </tr>\n",
       "    <tr>\n",
       "      <th>mean</th>\n",
       "      <td>14.185791</td>\n",
       "      <td>31.645216</td>\n",
       "      <td>3.845785</td>\n",
       "      <td>6.453905</td>\n",
       "    </tr>\n",
       "    <tr>\n",
       "      <th>std</th>\n",
       "      <td>4.234010</td>\n",
       "      <td>4.877754</td>\n",
       "      <td>1.971501</td>\n",
       "      <td>3.500754</td>\n",
       "    </tr>\n",
       "    <tr>\n",
       "      <th>min</th>\n",
       "      <td>6.000000</td>\n",
       "      <td>18.120000</td>\n",
       "      <td>1.000000</td>\n",
       "      <td>1.000000</td>\n",
       "    </tr>\n",
       "    <tr>\n",
       "      <th>25%</th>\n",
       "      <td>10.000000</td>\n",
       "      <td>27.920000</td>\n",
       "      <td>2.000000</td>\n",
       "      <td>3.000000</td>\n",
       "    </tr>\n",
       "    <tr>\n",
       "      <th>50%</th>\n",
       "      <td>14.000000</td>\n",
       "      <td>32.820000</td>\n",
       "      <td>4.000000</td>\n",
       "      <td>7.000000</td>\n",
       "    </tr>\n",
       "    <tr>\n",
       "      <th>75%</th>\n",
       "      <td>18.000000</td>\n",
       "      <td>35.760000</td>\n",
       "      <td>6.000000</td>\n",
       "      <td>10.000000</td>\n",
       "    </tr>\n",
       "    <tr>\n",
       "      <th>max</th>\n",
       "      <td>22.000000</td>\n",
       "      <td>38.700000</td>\n",
       "      <td>7.000000</td>\n",
       "      <td>12.000000</td>\n",
       "    </tr>\n",
       "  </tbody>\n",
       "</table>\n",
       "</div>"
      ],
      "text/plain": [
       "       hour_of_day        money  Weekdaysort    Monthsort\n",
       "count  3547.000000  3547.000000  3547.000000  3547.000000\n",
       "mean     14.185791    31.645216     3.845785     6.453905\n",
       "std       4.234010     4.877754     1.971501     3.500754\n",
       "min       6.000000    18.120000     1.000000     1.000000\n",
       "25%      10.000000    27.920000     2.000000     3.000000\n",
       "50%      14.000000    32.820000     4.000000     7.000000\n",
       "75%      18.000000    35.760000     6.000000    10.000000\n",
       "max      22.000000    38.700000     7.000000    12.000000"
      ]
     },
     "execution_count": 8,
     "metadata": {},
     "output_type": "execute_result"
    }
   ],
   "source": [
    "df.describe()"
   ]
  },
  {
   "cell_type": "code",
   "execution_count": 9,
   "id": "3f2bf7e0-9d90-4605-b166-d464b505373b",
   "metadata": {},
   "outputs": [
    {
     "data": {
      "text/plain": [
       "['hour_of_day',\n",
       " 'cash_type',\n",
       " 'money',\n",
       " 'coffee_name',\n",
       " 'Time_of_Day',\n",
       " 'Weekday',\n",
       " 'Month_name',\n",
       " 'Weekdaysort',\n",
       " 'Monthsort',\n",
       " 'Date',\n",
       " 'Time']"
      ]
     },
     "execution_count": 9,
     "metadata": {},
     "output_type": "execute_result"
    }
   ],
   "source": [
    "list(df)"
   ]
  },
  {
   "cell_type": "code",
   "execution_count": 10,
   "id": "3184702a-a87b-46b7-9dfd-fceebe2e73f2",
   "metadata": {},
   "outputs": [
    {
     "data": {
      "text/plain": [
       "array(['card'], dtype=object)"
      ]
     },
     "execution_count": 10,
     "metadata": {},
     "output_type": "execute_result"
    }
   ],
   "source": [
    "df[\"cash_type\"].unique()"
   ]
  },
  {
   "cell_type": "code",
   "execution_count": 11,
   "id": "90eb3e4d-6f95-4ff8-b4a5-333f18b7d36a",
   "metadata": {},
   "outputs": [
    {
     "data": {
      "text/plain": [
       "array(['Latte', 'Hot Chocolate', 'Americano', 'Americano with Milk',\n",
       "       'Cocoa', 'Cortado', 'Espresso', 'Cappuccino'], dtype=object)"
      ]
     },
     "execution_count": 11,
     "metadata": {},
     "output_type": "execute_result"
    }
   ],
   "source": [
    "df['coffee_name'].unique()"
   ]
  },
  {
   "cell_type": "code",
   "execution_count": null,
   "id": "2692a919-2b2f-44ac-a6af-92758ae4c0c6",
   "metadata": {},
   "outputs": [],
   "source": [
    "\"\"\"\n",
    "They deal with:-'Latte',\n",
    "                'Hot Chocolate',\n",
    "                'Americano',\n",
    "                'Americano with Milk',\n",
    "                'Cocoa', \n",
    "                'Cortado',\n",
    "                'Espresso',\n",
    "                'Cappuccino'\n",
    "\"\"\""
   ]
  },
  {
   "cell_type": "code",
   "execution_count": 13,
   "id": "075949b9-46df-4076-a90b-f849cf4c6b07",
   "metadata": {},
   "outputs": [
    {
     "data": {
      "text/plain": [
       "array(['Fri', 'Sat', 'Sun', 'Mon', 'Tue', 'Wed', 'Thu'], dtype=object)"
      ]
     },
     "execution_count": 13,
     "metadata": {},
     "output_type": "execute_result"
    }
   ],
   "source": [
    "df[\"Weekday\"].unique()"
   ]
  },
  {
   "cell_type": "code",
   "execution_count": null,
   "id": "b4911444-c2e7-4dc6-ab2b-f5e16dae13bc",
   "metadata": {},
   "outputs": [],
   "source": [
    "\"\"\"\n",
    "they work everyday including weekends.\n",
    "\"\"\""
   ]
  },
  {
   "cell_type": "markdown",
   "id": "0c16d5cc-faa7-43d7-9332-721f0e56b424",
   "metadata": {},
   "source": [
    "#### which is the best selling product according to time of day?"
   ]
  },
  {
   "cell_type": "code",
   "execution_count": 54,
   "id": "49abfec0-d160-4d5d-afbf-d06c657138ce",
   "metadata": {},
   "outputs": [
    {
     "data": {
      "text/html": [
       "<div>\n",
       "<style scoped>\n",
       "    .dataframe tbody tr th:only-of-type {\n",
       "        vertical-align: middle;\n",
       "    }\n",
       "\n",
       "    .dataframe tbody tr th {\n",
       "        vertical-align: top;\n",
       "    }\n",
       "\n",
       "    .dataframe thead th {\n",
       "        text-align: right;\n",
       "    }\n",
       "</style>\n",
       "<table border=\"1\" class=\"dataframe\">\n",
       "  <thead>\n",
       "    <tr style=\"text-align: right;\">\n",
       "      <th></th>\n",
       "      <th></th>\n",
       "      <th>count</th>\n",
       "    </tr>\n",
       "    <tr>\n",
       "      <th>coffee_name</th>\n",
       "      <th>Time_of_Day</th>\n",
       "      <th></th>\n",
       "    </tr>\n",
       "  </thead>\n",
       "  <tbody>\n",
       "    <tr>\n",
       "      <th rowspan=\"3\" valign=\"top\">Americano</th>\n",
       "      <th>Afternoon</th>\n",
       "      <td>233</td>\n",
       "    </tr>\n",
       "    <tr>\n",
       "      <th>Morning</th>\n",
       "      <td>219</td>\n",
       "    </tr>\n",
       "    <tr>\n",
       "      <th>Night</th>\n",
       "      <td>112</td>\n",
       "    </tr>\n",
       "    <tr>\n",
       "      <th rowspan=\"3\" valign=\"top\">Americano with Milk</th>\n",
       "      <th>Morning</th>\n",
       "      <td>331</td>\n",
       "    </tr>\n",
       "    <tr>\n",
       "      <th>Afternoon</th>\n",
       "      <td>239</td>\n",
       "    </tr>\n",
       "    <tr>\n",
       "      <th>Night</th>\n",
       "      <td>239</td>\n",
       "    </tr>\n",
       "    <tr>\n",
       "      <th rowspan=\"3\" valign=\"top\">Cappuccino</th>\n",
       "      <th>Night</th>\n",
       "      <td>200</td>\n",
       "    </tr>\n",
       "    <tr>\n",
       "      <th>Afternoon</th>\n",
       "      <td>164</td>\n",
       "    </tr>\n",
       "    <tr>\n",
       "      <th>Morning</th>\n",
       "      <td>122</td>\n",
       "    </tr>\n",
       "    <tr>\n",
       "      <th rowspan=\"3\" valign=\"top\">Cocoa</th>\n",
       "      <th>Night</th>\n",
       "      <td>106</td>\n",
       "    </tr>\n",
       "    <tr>\n",
       "      <th>Afternoon</th>\n",
       "      <td>75</td>\n",
       "    </tr>\n",
       "    <tr>\n",
       "      <th>Morning</th>\n",
       "      <td>58</td>\n",
       "    </tr>\n",
       "    <tr>\n",
       "      <th rowspan=\"3\" valign=\"top\">Cortado</th>\n",
       "      <th>Morning</th>\n",
       "      <td>143</td>\n",
       "    </tr>\n",
       "    <tr>\n",
       "      <th>Afternoon</th>\n",
       "      <td>88</td>\n",
       "    </tr>\n",
       "    <tr>\n",
       "      <th>Night</th>\n",
       "      <td>56</td>\n",
       "    </tr>\n",
       "    <tr>\n",
       "      <th rowspan=\"3\" valign=\"top\">Espresso</th>\n",
       "      <th>Afternoon</th>\n",
       "      <td>56</td>\n",
       "    </tr>\n",
       "    <tr>\n",
       "      <th>Morning</th>\n",
       "      <td>44</td>\n",
       "    </tr>\n",
       "    <tr>\n",
       "      <th>Night</th>\n",
       "      <td>29</td>\n",
       "    </tr>\n",
       "    <tr>\n",
       "      <th rowspan=\"3\" valign=\"top\">Hot Chocolate</th>\n",
       "      <th>Night</th>\n",
       "      <td>147</td>\n",
       "    </tr>\n",
       "    <tr>\n",
       "      <th>Afternoon</th>\n",
       "      <td>80</td>\n",
       "    </tr>\n",
       "    <tr>\n",
       "      <th>Morning</th>\n",
       "      <td>49</td>\n",
       "    </tr>\n",
       "    <tr>\n",
       "      <th rowspan=\"3\" valign=\"top\">Latte</th>\n",
       "      <th>Night</th>\n",
       "      <td>272</td>\n",
       "    </tr>\n",
       "    <tr>\n",
       "      <th>Afternoon</th>\n",
       "      <td>270</td>\n",
       "    </tr>\n",
       "    <tr>\n",
       "      <th>Morning</th>\n",
       "      <td>215</td>\n",
       "    </tr>\n",
       "  </tbody>\n",
       "</table>\n",
       "</div>"
      ],
      "text/plain": [
       "                                 count\n",
       "coffee_name         Time_of_Day       \n",
       "Americano           Afternoon      233\n",
       "                    Morning        219\n",
       "                    Night          112\n",
       "Americano with Milk Morning        331\n",
       "                    Afternoon      239\n",
       "                    Night          239\n",
       "Cappuccino          Night          200\n",
       "                    Afternoon      164\n",
       "                    Morning        122\n",
       "Cocoa               Night          106\n",
       "                    Afternoon       75\n",
       "                    Morning         58\n",
       "Cortado             Morning        143\n",
       "                    Afternoon       88\n",
       "                    Night           56\n",
       "Espresso            Afternoon       56\n",
       "                    Morning         44\n",
       "                    Night           29\n",
       "Hot Chocolate       Night          147\n",
       "                    Afternoon       80\n",
       "                    Morning         49\n",
       "Latte               Night          272\n",
       "                    Afternoon      270\n",
       "                    Morning        215"
      ]
     },
     "execution_count": 54,
     "metadata": {},
     "output_type": "execute_result"
    }
   ],
   "source": [
    "df2 = df.groupby(\"coffee_name\")[\"Time_of_Day\"].value_counts()\n",
    "df2 = pd.DataFrame(df2)\n",
    "df2"
   ]
  },
  {
   "cell_type": "code",
   "execution_count": 56,
   "id": "8ca625f0-48ff-48ea-bd19-f0b5b69a4999",
   "metadata": {},
   "outputs": [
    {
     "data": {
      "image/png": "[encoded data removed]",
      "text/plain": [
       "<Figure size 1400x700 with 1 Axes>"
      ]
     },
     "metadata": {},
     "output_type": "display_data"
    }
   ],
   "source": [
    "fig, ax = plt.subplots(figsize = (14, 7))\n",
    "\n",
    "sns.barplot(x= \"coffee_name\", data = df2, y =\"count\", hue= \"Time_of_Day\", palette='viridis', ax=ax)\n",
    "\n",
    "plt.title('Coffee Consumption by Time of Day')\n",
    "plt.xlabel('Coffee Name')\n",
    "plt.ylabel('Count')\n",
    "plt.xticks(rotation=45, ha='right')\n",
    "plt.legend(title='Time of Day')\n",
    "plt.tight_layout()\n",
    "plt.show()"
   ]
  },
  {
   "cell_type": "code",
   "execution_count": null,
   "id": "5df394e2-76cb-4f17-b3a5-67658af17bb9",
   "metadata": {},
   "outputs": [],
   "source": [
    "\"\"\"\n",
    "Americano with Milk\thas the highest sales in the morning, followed by lattee which is bought mostly in the afternoon and at night.\n",
    "\"\"\""
   ]
  },
  {
   "cell_type": "markdown",
   "id": "eb268b92-951d-427d-9ba2-4b8a5b1adc3a",
   "metadata": {},
   "source": [
    "## 3. Data Preparation"
   ]
  },
  {
   "cell_type": "code",
   "execution_count": 15,
   "id": "60ff463c-a476-40dc-b5d6-e9296d940d77",
   "metadata": {},
   "outputs": [
    {
     "data": {
      "text/html": [
       "<div>\n",
       "<style scoped>\n",
       "    .dataframe tbody tr th:only-of-type {\n",
       "        vertical-align: middle;\n",
       "    }\n",
       "\n",
       "    .dataframe tbody tr th {\n",
       "        vertical-align: top;\n",
       "    }\n",
       "\n",
       "    .dataframe thead th {\n",
       "        text-align: right;\n",
       "    }\n",
       "</style>\n",
       "<table border=\"1\" class=\"dataframe\">\n",
       "  <thead>\n",
       "    <tr style=\"text-align: right;\">\n",
       "      <th></th>\n",
       "      <th>hour_of_day</th>\n",
       "      <th>cash_type</th>\n",
       "      <th>money</th>\n",
       "      <th>coffee_name</th>\n",
       "      <th>Time_of_Day</th>\n",
       "      <th>Weekday</th>\n",
       "      <th>Month_name</th>\n",
       "      <th>Weekdaysort</th>\n",
       "      <th>Monthsort</th>\n",
       "      <th>Date</th>\n",
       "      <th>Time</th>\n",
       "    </tr>\n",
       "  </thead>\n",
       "  <tbody>\n",
       "    <tr>\n",
       "      <th>0</th>\n",
       "      <td>10</td>\n",
       "      <td>card</td>\n",
       "      <td>38.7</td>\n",
       "      <td>Latte</td>\n",
       "      <td>Morning</td>\n",
       "      <td>Fri</td>\n",
       "      <td>Mar</td>\n",
       "      <td>5</td>\n",
       "      <td>3</td>\n",
       "      <td>2024-03-01</td>\n",
       "      <td>10:15:50.520000</td>\n",
       "    </tr>\n",
       "    <tr>\n",
       "      <th>1</th>\n",
       "      <td>12</td>\n",
       "      <td>card</td>\n",
       "      <td>38.7</td>\n",
       "      <td>Hot Chocolate</td>\n",
       "      <td>Afternoon</td>\n",
       "      <td>Fri</td>\n",
       "      <td>Mar</td>\n",
       "      <td>5</td>\n",
       "      <td>3</td>\n",
       "      <td>2024-03-01</td>\n",
       "      <td>12:19:22.539000</td>\n",
       "    </tr>\n",
       "    <tr>\n",
       "      <th>2</th>\n",
       "      <td>12</td>\n",
       "      <td>card</td>\n",
       "      <td>38.7</td>\n",
       "      <td>Hot Chocolate</td>\n",
       "      <td>Afternoon</td>\n",
       "      <td>Fri</td>\n",
       "      <td>Mar</td>\n",
       "      <td>5</td>\n",
       "      <td>3</td>\n",
       "      <td>2024-03-01</td>\n",
       "      <td>12:20:18.089000</td>\n",
       "    </tr>\n",
       "    <tr>\n",
       "      <th>3</th>\n",
       "      <td>13</td>\n",
       "      <td>card</td>\n",
       "      <td>28.9</td>\n",
       "      <td>Americano</td>\n",
       "      <td>Afternoon</td>\n",
       "      <td>Fri</td>\n",
       "      <td>Mar</td>\n",
       "      <td>5</td>\n",
       "      <td>3</td>\n",
       "      <td>2024-03-01</td>\n",
       "      <td>13:46:33.006000</td>\n",
       "    </tr>\n",
       "    <tr>\n",
       "      <th>4</th>\n",
       "      <td>13</td>\n",
       "      <td>card</td>\n",
       "      <td>38.7</td>\n",
       "      <td>Latte</td>\n",
       "      <td>Afternoon</td>\n",
       "      <td>Fri</td>\n",
       "      <td>Mar</td>\n",
       "      <td>5</td>\n",
       "      <td>3</td>\n",
       "      <td>2024-03-01</td>\n",
       "      <td>13:48:14.626000</td>\n",
       "    </tr>\n",
       "  </tbody>\n",
       "</table>\n",
       "</div>"
      ],
      "text/plain": [
       "   hour_of_day cash_type  money    coffee_name Time_of_Day Weekday Month_name  \\\n",
       "0           10      card   38.7          Latte     Morning     Fri        Mar   \n",
       "1           12      card   38.7  Hot Chocolate   Afternoon     Fri        Mar   \n",
       "2           12      card   38.7  Hot Chocolate   Afternoon     Fri        Mar   \n",
       "3           13      card   28.9      Americano   Afternoon     Fri        Mar   \n",
       "4           13      card   38.7          Latte   Afternoon     Fri        Mar   \n",
       "\n",
       "   Weekdaysort  Monthsort        Date             Time  \n",
       "0            5          3  2024-03-01  10:15:50.520000  \n",
       "1            5          3  2024-03-01  12:19:22.539000  \n",
       "2            5          3  2024-03-01  12:20:18.089000  \n",
       "3            5          3  2024-03-01  13:46:33.006000  \n",
       "4            5          3  2024-03-01  13:48:14.626000  "
      ]
     },
     "execution_count": 15,
     "metadata": {},
     "output_type": "execute_result"
    }
   ],
   "source": [
    "df.head()"
   ]
  },
  {
   "cell_type": "markdown",
   "id": "7ce6ce17-4095-45fc-a6ef-fc89fb2cc165",
   "metadata": {},
   "source": [
    "#### We saw the dtype for the date and time was object lets work on that. Change the dtype to ``` datetime64[ns]```"
   ]
  },
  {
   "cell_type": "code",
   "execution_count": 16,
   "id": "5aa03830-cf19-434e-9af7-ffe29aa8172e",
   "metadata": {},
   "outputs": [],
   "source": [
    "df[\"Date\"] = pd.to_datetime(df[\"Date\"])"
   ]
  },
  {
   "cell_type": "code",
   "execution_count": 17,
   "id": "f4f461d6-cba0-4aa8-be69-f31961b91093",
   "metadata": {},
   "outputs": [
    {
     "name": "stdout",
     "output_type": "stream",
     "text": [
      "<class 'pandas.core.frame.DataFrame'>\n",
      "RangeIndex: 3547 entries, 0 to 3546\n",
      "Data columns (total 11 columns):\n",
      " #   Column       Non-Null Count  Dtype         \n",
      "---  ------       --------------  -----         \n",
      " 0   hour_of_day  3547 non-null   int64         \n",
      " 1   cash_type    3547 non-null   object        \n",
      " 2   money        3547 non-null   float64       \n",
      " 3   coffee_name  3547 non-null   object        \n",
      " 4   Time_of_Day  3547 non-null   object        \n",
      " 5   Weekday      3547 non-null   object        \n",
      " 6   Month_name   3547 non-null   object        \n",
      " 7   Weekdaysort  3547 non-null   int64         \n",
      " 8   Monthsort    3547 non-null   int64         \n",
      " 9   Date         3547 non-null   datetime64[ns]\n",
      " 10  Time         3547 non-null   object        \n",
      "dtypes: datetime64[ns](1), float64(1), int64(3), object(6)\n",
      "memory usage: 304.9+ KB\n"
     ]
    }
   ],
   "source": [
    "df.info()"
   ]
  },
  {
   "cell_type": "markdown",
   "id": "e66cc8fb-28f5-4cf4-bc35-1a3df6ccb260",
   "metadata": {},
   "source": [
    "Now everything is fixed and in the right dtype"
   ]
  },
  {
   "cell_type": "markdown",
   "id": "16179699-0bf0-4e46-a90b-d3efb5aeb3fd",
   "metadata": {},
   "source": [
    "## 4. Data Analysis and Visualisation"
   ]
  },
  {
   "cell_type": "markdown",
   "id": "106c6e87-9426-47e4-ae51-5a6eeb700c15",
   "metadata": {},
   "source": [
    "#### (i) To find out which product brings more revenue\n",
    "#### (ii) To find out if trends depend on the day of the week, month or time of the day\n",
    "#### (iii) To find out the patterns in purchase preferences(Segment the customers and the products)"
   ]
  },
  {
   "cell_type": "markdown",
   "id": "1686e8d1-1448-44a0-bec3-ad1e51e423e8",
   "metadata": {},
   "source": [
    "### (i) To find out which product brings more revenue"
   ]
  },
  {
   "cell_type": "code",
   "execution_count": 18,
   "id": "8df381e0-5a3e-4de1-a40a-0f08a62f1966",
   "metadata": {},
   "outputs": [
    {
     "data": {
      "text/html": [
       "<div>\n",
       "<style scoped>\n",
       "    .dataframe tbody tr th:only-of-type {\n",
       "        vertical-align: middle;\n",
       "    }\n",
       "\n",
       "    .dataframe tbody tr th {\n",
       "        vertical-align: top;\n",
       "    }\n",
       "\n",
       "    .dataframe thead th {\n",
       "        text-align: right;\n",
       "    }\n",
       "</style>\n",
       "<table border=\"1\" class=\"dataframe\">\n",
       "  <thead>\n",
       "    <tr style=\"text-align: right;\">\n",
       "      <th></th>\n",
       "      <th>hour_of_day</th>\n",
       "      <th>cash_type</th>\n",
       "      <th>money</th>\n",
       "      <th>coffee_name</th>\n",
       "      <th>Time_of_Day</th>\n",
       "      <th>Weekday</th>\n",
       "      <th>Month_name</th>\n",
       "      <th>Weekdaysort</th>\n",
       "      <th>Monthsort</th>\n",
       "      <th>Date</th>\n",
       "      <th>Time</th>\n",
       "    </tr>\n",
       "  </thead>\n",
       "  <tbody>\n",
       "    <tr>\n",
       "      <th>0</th>\n",
       "      <td>10</td>\n",
       "      <td>card</td>\n",
       "      <td>38.7</td>\n",
       "      <td>Latte</td>\n",
       "      <td>Morning</td>\n",
       "      <td>Fri</td>\n",
       "      <td>Mar</td>\n",
       "      <td>5</td>\n",
       "      <td>3</td>\n",
       "      <td>2024-03-01</td>\n",
       "      <td>10:15:50.520000</td>\n",
       "    </tr>\n",
       "    <tr>\n",
       "      <th>1</th>\n",
       "      <td>12</td>\n",
       "      <td>card</td>\n",
       "      <td>38.7</td>\n",
       "      <td>Hot Chocolate</td>\n",
       "      <td>Afternoon</td>\n",
       "      <td>Fri</td>\n",
       "      <td>Mar</td>\n",
       "      <td>5</td>\n",
       "      <td>3</td>\n",
       "      <td>2024-03-01</td>\n",
       "      <td>12:19:22.539000</td>\n",
       "    </tr>\n",
       "    <tr>\n",
       "      <th>2</th>\n",
       "      <td>12</td>\n",
       "      <td>card</td>\n",
       "      <td>38.7</td>\n",
       "      <td>Hot Chocolate</td>\n",
       "      <td>Afternoon</td>\n",
       "      <td>Fri</td>\n",
       "      <td>Mar</td>\n",
       "      <td>5</td>\n",
       "      <td>3</td>\n",
       "      <td>2024-03-01</td>\n",
       "      <td>12:20:18.089000</td>\n",
       "    </tr>\n",
       "    <tr>\n",
       "      <th>3</th>\n",
       "      <td>13</td>\n",
       "      <td>card</td>\n",
       "      <td>28.9</td>\n",
       "      <td>Americano</td>\n",
       "      <td>Afternoon</td>\n",
       "      <td>Fri</td>\n",
       "      <td>Mar</td>\n",
       "      <td>5</td>\n",
       "      <td>3</td>\n",
       "      <td>2024-03-01</td>\n",
       "      <td>13:46:33.006000</td>\n",
       "    </tr>\n",
       "    <tr>\n",
       "      <th>4</th>\n",
       "      <td>13</td>\n",
       "      <td>card</td>\n",
       "      <td>38.7</td>\n",
       "      <td>Latte</td>\n",
       "      <td>Afternoon</td>\n",
       "      <td>Fri</td>\n",
       "      <td>Mar</td>\n",
       "      <td>5</td>\n",
       "      <td>3</td>\n",
       "      <td>2024-03-01</td>\n",
       "      <td>13:48:14.626000</td>\n",
       "    </tr>\n",
       "  </tbody>\n",
       "</table>\n",
       "</div>"
      ],
      "text/plain": [
       "   hour_of_day cash_type  money    coffee_name Time_of_Day Weekday Month_name  \\\n",
       "0           10      card   38.7          Latte     Morning     Fri        Mar   \n",
       "1           12      card   38.7  Hot Chocolate   Afternoon     Fri        Mar   \n",
       "2           12      card   38.7  Hot Chocolate   Afternoon     Fri        Mar   \n",
       "3           13      card   28.9      Americano   Afternoon     Fri        Mar   \n",
       "4           13      card   38.7          Latte   Afternoon     Fri        Mar   \n",
       "\n",
       "   Weekdaysort  Monthsort       Date             Time  \n",
       "0            5          3 2024-03-01  10:15:50.520000  \n",
       "1            5          3 2024-03-01  12:19:22.539000  \n",
       "2            5          3 2024-03-01  12:20:18.089000  \n",
       "3            5          3 2024-03-01  13:46:33.006000  \n",
       "4            5          3 2024-03-01  13:48:14.626000  "
      ]
     },
     "execution_count": 18,
     "metadata": {},
     "output_type": "execute_result"
    }
   ],
   "source": [
    "df.head()"
   ]
  },
  {
   "cell_type": "code",
   "execution_count": 19,
   "id": "d3983f0b-9d90-4959-8a7d-7a6dd82750df",
   "metadata": {},
   "outputs": [
    {
     "data": {
      "text/plain": [
       "pandas.core.frame.DataFrame"
      ]
     },
     "execution_count": 19,
     "metadata": {},
     "output_type": "execute_result"
    }
   ],
   "source": [
    "prod_rev = df.groupby('coffee_name')['money'].sum().reset_index()\n",
    "type(prod_rev)"
   ]
  },
  {
   "cell_type": "code",
   "execution_count": 50,
   "id": "89e5d70a-19c6-4cbb-bc18-cdd25200899e",
   "metadata": {},
   "outputs": [
    {
     "data": {
      "text/html": [
       "<div>\n",
       "<style scoped>\n",
       "    .dataframe tbody tr th:only-of-type {\n",
       "        vertical-align: middle;\n",
       "    }\n",
       "\n",
       "    .dataframe tbody tr th {\n",
       "        vertical-align: top;\n",
       "    }\n",
       "\n",
       "    .dataframe thead th {\n",
       "        text-align: right;\n",
       "    }\n",
       "</style>\n",
       "<table border=\"1\" class=\"dataframe\">\n",
       "  <thead>\n",
       "    <tr style=\"text-align: right;\">\n",
       "      <th></th>\n",
       "      <th>coffee_name</th>\n",
       "      <th>money</th>\n",
       "    </tr>\n",
       "  </thead>\n",
       "  <tbody>\n",
       "    <tr>\n",
       "      <th>5</th>\n",
       "      <td>Espresso</td>\n",
       "      <td>2690.28</td>\n",
       "    </tr>\n",
       "    <tr>\n",
       "      <th>4</th>\n",
       "      <td>Cortado</td>\n",
       "      <td>7384.86</td>\n",
       "    </tr>\n",
       "    <tr>\n",
       "      <th>3</th>\n",
       "      <td>Cocoa</td>\n",
       "      <td>8521.16</td>\n",
       "    </tr>\n",
       "    <tr>\n",
       "      <th>6</th>\n",
       "      <td>Hot Chocolate</td>\n",
       "      <td>9933.46</td>\n",
       "    </tr>\n",
       "    <tr>\n",
       "      <th>0</th>\n",
       "      <td>Americano</td>\n",
       "      <td>14650.26</td>\n",
       "    </tr>\n",
       "    <tr>\n",
       "      <th>2</th>\n",
       "      <td>Cappuccino</td>\n",
       "      <td>17439.14</td>\n",
       "    </tr>\n",
       "    <tr>\n",
       "      <th>1</th>\n",
       "      <td>Americano with Milk</td>\n",
       "      <td>24751.12</td>\n",
       "    </tr>\n",
       "    <tr>\n",
       "      <th>7</th>\n",
       "      <td>Latte</td>\n",
       "      <td>26875.30</td>\n",
       "    </tr>\n",
       "  </tbody>\n",
       "</table>\n",
       "</div>"
      ],
      "text/plain": [
       "           coffee_name     money\n",
       "5             Espresso   2690.28\n",
       "4              Cortado   7384.86\n",
       "3                Cocoa   8521.16\n",
       "6        Hot Chocolate   9933.46\n",
       "0            Americano  14650.26\n",
       "2           Cappuccino  17439.14\n",
       "1  Americano with Milk  24751.12\n",
       "7                Latte  26875.30"
      ]
     },
     "execution_count": 50,
     "metadata": {},
     "output_type": "execute_result"
    }
   ],
   "source": [
    "prod_rev.sort_values(\"money\")"
   ]
  },
  {
   "cell_type": "code",
   "execution_count": 21,
   "id": "f83e1cd9-b9a5-4ce4-8a78-9b36c70e546e",
   "metadata": {},
   "outputs": [
    {
     "data": {
      "image/png": "[encoded data removed]",
      "text/plain": [
       "<Figure size 1000x500 with 1 Axes>"
      ]
     },
     "metadata": {},
     "output_type": "display_data"
    }
   ],
   "source": [
    "fig, ax = plt.subplots(figsize= (10,5))\n",
    "\n",
    "ax.bar(x=\"coffee_name\", data = prod_rev, height = \"money\", color = \"#FFD700\")\n",
    "\n",
    "# Add labels and a title to make the plot easy to understand.\n",
    "ax.set_xlabel('Coffee Name')\n",
    "ax.set_ylabel('Total Money ($)')\n",
    "ax.set_title('Total Revenue per Coffee Product')\n",
    "\n",
    "# Ensure the labels on the x-axis are readable.\n",
    "\n",
    "ax.set_xticks(ticks=prod_rev['coffee_name'],labels= prod_rev['coffee_name'], rotation=45, ha='right')\n",
    "\n",
    "\n",
    "\n",
    "plt.show()"
   ]
  },
  {
   "cell_type": "code",
   "execution_count": null,
   "id": "fee3fba6-224f-4840-905a-126969a362e2",
   "metadata": {},
   "outputs": [],
   "source": [
    "\"\"\"\n",
    "The products that bring more revenue are -: - Latte\t26875.30\n",
    "                                            - Americano with Milk\t24751.12\n",
    "                                            - Cappuccino\t17439.14\n",
    "                                            \n",
    "\"\"\""
   ]
  },
  {
   "cell_type": "markdown",
   "id": "3ac18c33-6264-4254-a205-c583003700a5",
   "metadata": {},
   "source": [
    "### (ii) To find out if trends depend on the day of the week, month or time of the day?"
   ]
  },
  {
   "cell_type": "code",
   "execution_count": 22,
   "id": "85ffb445-3cbf-4685-b113-111d8aa13034",
   "metadata": {},
   "outputs": [
    {
     "data": {
      "text/html": [
       "<div>\n",
       "<style scoped>\n",
       "    .dataframe tbody tr th:only-of-type {\n",
       "        vertical-align: middle;\n",
       "    }\n",
       "\n",
       "    .dataframe tbody tr th {\n",
       "        vertical-align: top;\n",
       "    }\n",
       "\n",
       "    .dataframe thead th {\n",
       "        text-align: right;\n",
       "    }\n",
       "</style>\n",
       "<table border=\"1\" class=\"dataframe\">\n",
       "  <thead>\n",
       "    <tr style=\"text-align: right;\">\n",
       "      <th></th>\n",
       "      <th>hour_of_day</th>\n",
       "      <th>cash_type</th>\n",
       "      <th>money</th>\n",
       "      <th>coffee_name</th>\n",
       "      <th>Time_of_Day</th>\n",
       "      <th>Weekday</th>\n",
       "      <th>Month_name</th>\n",
       "      <th>Weekdaysort</th>\n",
       "      <th>Monthsort</th>\n",
       "      <th>Date</th>\n",
       "      <th>Time</th>\n",
       "    </tr>\n",
       "  </thead>\n",
       "  <tbody>\n",
       "    <tr>\n",
       "      <th>0</th>\n",
       "      <td>10</td>\n",
       "      <td>card</td>\n",
       "      <td>38.7</td>\n",
       "      <td>Latte</td>\n",
       "      <td>Morning</td>\n",
       "      <td>Fri</td>\n",
       "      <td>Mar</td>\n",
       "      <td>5</td>\n",
       "      <td>3</td>\n",
       "      <td>2024-03-01</td>\n",
       "      <td>10:15:50.520000</td>\n",
       "    </tr>\n",
       "    <tr>\n",
       "      <th>1</th>\n",
       "      <td>12</td>\n",
       "      <td>card</td>\n",
       "      <td>38.7</td>\n",
       "      <td>Hot Chocolate</td>\n",
       "      <td>Afternoon</td>\n",
       "      <td>Fri</td>\n",
       "      <td>Mar</td>\n",
       "      <td>5</td>\n",
       "      <td>3</td>\n",
       "      <td>2024-03-01</td>\n",
       "      <td>12:19:22.539000</td>\n",
       "    </tr>\n",
       "    <tr>\n",
       "      <th>2</th>\n",
       "      <td>12</td>\n",
       "      <td>card</td>\n",
       "      <td>38.7</td>\n",
       "      <td>Hot Chocolate</td>\n",
       "      <td>Afternoon</td>\n",
       "      <td>Fri</td>\n",
       "      <td>Mar</td>\n",
       "      <td>5</td>\n",
       "      <td>3</td>\n",
       "      <td>2024-03-01</td>\n",
       "      <td>12:20:18.089000</td>\n",
       "    </tr>\n",
       "    <tr>\n",
       "      <th>3</th>\n",
       "      <td>13</td>\n",
       "      <td>card</td>\n",
       "      <td>28.9</td>\n",
       "      <td>Americano</td>\n",
       "      <td>Afternoon</td>\n",
       "      <td>Fri</td>\n",
       "      <td>Mar</td>\n",
       "      <td>5</td>\n",
       "      <td>3</td>\n",
       "      <td>2024-03-01</td>\n",
       "      <td>13:46:33.006000</td>\n",
       "    </tr>\n",
       "    <tr>\n",
       "      <th>4</th>\n",
       "      <td>13</td>\n",
       "      <td>card</td>\n",
       "      <td>38.7</td>\n",
       "      <td>Latte</td>\n",
       "      <td>Afternoon</td>\n",
       "      <td>Fri</td>\n",
       "      <td>Mar</td>\n",
       "      <td>5</td>\n",
       "      <td>3</td>\n",
       "      <td>2024-03-01</td>\n",
       "      <td>13:48:14.626000</td>\n",
       "    </tr>\n",
       "  </tbody>\n",
       "</table>\n",
       "</div>"
      ],
      "text/plain": [
       "   hour_of_day cash_type  money    coffee_name Time_of_Day Weekday Month_name  \\\n",
       "0           10      card   38.7          Latte     Morning     Fri        Mar   \n",
       "1           12      card   38.7  Hot Chocolate   Afternoon     Fri        Mar   \n",
       "2           12      card   38.7  Hot Chocolate   Afternoon     Fri        Mar   \n",
       "3           13      card   28.9      Americano   Afternoon     Fri        Mar   \n",
       "4           13      card   38.7          Latte   Afternoon     Fri        Mar   \n",
       "\n",
       "   Weekdaysort  Monthsort       Date             Time  \n",
       "0            5          3 2024-03-01  10:15:50.520000  \n",
       "1            5          3 2024-03-01  12:19:22.539000  \n",
       "2            5          3 2024-03-01  12:20:18.089000  \n",
       "3            5          3 2024-03-01  13:46:33.006000  \n",
       "4            5          3 2024-03-01  13:48:14.626000  "
      ]
     },
     "execution_count": 22,
     "metadata": {},
     "output_type": "execute_result"
    }
   ],
   "source": [
    "df.head()"
   ]
  },
  {
   "cell_type": "code",
   "execution_count": 26,
   "id": "a7330ebf-58c7-4194-a3ce-71424e89c5c9",
   "metadata": {},
   "outputs": [
    {
     "data": {
      "text/plain": [
       "coffee_name\n",
       "Americano with Milk    809\n",
       "Latte                  757\n",
       "Americano              564\n",
       "Cappuccino             486\n",
       "Cortado                287\n",
       "Hot Chocolate          276\n",
       "Cocoa                  239\n",
       "Espresso               129\n",
       "Name: count, dtype: int64"
      ]
     },
     "execution_count": 26,
     "metadata": {},
     "output_type": "execute_result"
    }
   ],
   "source": [
    "df['coffee_name'].value_counts().sort_values(ascending= False)"
   ]
  },
  {
   "cell_type": "code",
   "execution_count": 27,
   "id": "60215e4f-bece-4691-bba9-c4d3db940b96",
   "metadata": {},
   "outputs": [],
   "source": [
    "df5 = df.groupby('hour_of_day')['money'].sum().reset_index()\n",
    "df6 = df.groupby('Weekdaysort')['money'].sum().reset_index()\n",
    "df7 = df.groupby('Monthsort')['money'].sum().reset_index()"
   ]
  },
  {
   "cell_type": "code",
   "execution_count": 28,
   "id": "f7cd57a3-2dea-4051-b518-7acdd1b334fe",
   "metadata": {},
   "outputs": [],
   "source": [
    "df5 = df5.sort_values(\"money\")\n",
    "df6 = df6.sort_values(\"money\")\n",
    "df7 = df7.sort_values(\"money\")"
   ]
  },
  {
   "cell_type": "code",
   "execution_count": 29,
   "id": "ad813bc2-af7a-46ab-a198-b19bbb897adb",
   "metadata": {},
   "outputs": [
    {
     "data": {
      "image/png": "[encoded data removed]",
      "text/plain": [
       "<Figure size 800x1500 with 3 Axes>"
      ]
     },
     "metadata": {},
     "output_type": "display_data"
    }
   ],
   "source": [
    "fig, (ax1, ax2, ax3) = plt.subplots(nrows=3, figsize=(8, 15))\n",
    "\n",
    "# Plot the sales by hour of day\n",
    "sns.lineplot(x='hour_of_day', y='money', data=df5, ax=ax1)\n",
    "ax1.set_title('Sales by Hour of Day')\n",
    "ax1.set_xlabel('Hour of Day (24-hour clock)')\n",
    "ax1.set_ylabel('Total Sales ($)')\n",
    "\n",
    "# Plot the sales by weekday\n",
    "sns.lineplot(x='Weekdaysort', y='money', data=df6, ax=ax2)\n",
    "ax2.set_title('Sales by Weekday')\n",
    "ax2.set_xlabel('Weekday')\n",
    "ax2.set_ylabel('Total Sales ($)')\n",
    "ax2.tick_params(axis='x', rotation=45)\n",
    "\n",
    "# Plot the sales by month\n",
    "sns.lineplot(x='Monthsort', y='money', data=df7, ax=ax3)\n",
    "ax3.set_title('Sales by Month')\n",
    "ax3.set_xlabel('Month')\n",
    "ax3.set_ylabel('Total Sales ($)')\n",
    "ax3.tick_params(axis='x', rotation=45)\n",
    "\n",
    "# Improve layout and display the plots\n",
    "plt.tight_layout()\n",
    "plt.show()"
   ]
  },
  {
   "cell_type": "code",
   "execution_count": null,
   "id": "ebd9f006-6ede-49ed-81ca-0677533dd8fe",
   "metadata": {},
   "outputs": [],
   "source": [
    "\"\"\"\n",
    "Yes! trends do depend on the day of the week, month or time of the day.\n",
    "Sales are higher on march, october and february than april, january and july.\n",
    "Sales are higher on Tuesday, Monday and Friday than on Sundays\n",
    "Sales are higher at 10 am \n",
    "\n",
    "\"\"\""
   ]
  },
  {
   "cell_type": "markdown",
   "id": "32e2b189-9972-49ad-b70d-435359606772",
   "metadata": {},
   "source": [
    "### (iii) To find out the patterns in purchase preferences?(Segment the customers and the products)"
   ]
  },
  {
   "cell_type": "code",
   "execution_count": 30,
   "id": "e06b142a-2232-43c6-9fb9-65ad28a50f4f",
   "metadata": {},
   "outputs": [
    {
     "data": {
      "text/html": [
       "<div>\n",
       "<style scoped>\n",
       "    .dataframe tbody tr th:only-of-type {\n",
       "        vertical-align: middle;\n",
       "    }\n",
       "\n",
       "    .dataframe tbody tr th {\n",
       "        vertical-align: top;\n",
       "    }\n",
       "\n",
       "    .dataframe thead th {\n",
       "        text-align: right;\n",
       "    }\n",
       "</style>\n",
       "<table border=\"1\" class=\"dataframe\">\n",
       "  <thead>\n",
       "    <tr style=\"text-align: right;\">\n",
       "      <th></th>\n",
       "      <th>hour_of_day</th>\n",
       "      <th>cash_type</th>\n",
       "      <th>money</th>\n",
       "      <th>coffee_name</th>\n",
       "      <th>Time_of_Day</th>\n",
       "      <th>Weekday</th>\n",
       "      <th>Month_name</th>\n",
       "      <th>Weekdaysort</th>\n",
       "      <th>Monthsort</th>\n",
       "      <th>Date</th>\n",
       "      <th>Time</th>\n",
       "    </tr>\n",
       "  </thead>\n",
       "  <tbody>\n",
       "    <tr>\n",
       "      <th>0</th>\n",
       "      <td>10</td>\n",
       "      <td>card</td>\n",
       "      <td>38.7</td>\n",
       "      <td>Latte</td>\n",
       "      <td>Morning</td>\n",
       "      <td>Fri</td>\n",
       "      <td>Mar</td>\n",
       "      <td>5</td>\n",
       "      <td>3</td>\n",
       "      <td>2024-03-01</td>\n",
       "      <td>10:15:50.520000</td>\n",
       "    </tr>\n",
       "    <tr>\n",
       "      <th>1</th>\n",
       "      <td>12</td>\n",
       "      <td>card</td>\n",
       "      <td>38.7</td>\n",
       "      <td>Hot Chocolate</td>\n",
       "      <td>Afternoon</td>\n",
       "      <td>Fri</td>\n",
       "      <td>Mar</td>\n",
       "      <td>5</td>\n",
       "      <td>3</td>\n",
       "      <td>2024-03-01</td>\n",
       "      <td>12:19:22.539000</td>\n",
       "    </tr>\n",
       "    <tr>\n",
       "      <th>2</th>\n",
       "      <td>12</td>\n",
       "      <td>card</td>\n",
       "      <td>38.7</td>\n",
       "      <td>Hot Chocolate</td>\n",
       "      <td>Afternoon</td>\n",
       "      <td>Fri</td>\n",
       "      <td>Mar</td>\n",
       "      <td>5</td>\n",
       "      <td>3</td>\n",
       "      <td>2024-03-01</td>\n",
       "      <td>12:20:18.089000</td>\n",
       "    </tr>\n",
       "    <tr>\n",
       "      <th>3</th>\n",
       "      <td>13</td>\n",
       "      <td>card</td>\n",
       "      <td>28.9</td>\n",
       "      <td>Americano</td>\n",
       "      <td>Afternoon</td>\n",
       "      <td>Fri</td>\n",
       "      <td>Mar</td>\n",
       "      <td>5</td>\n",
       "      <td>3</td>\n",
       "      <td>2024-03-01</td>\n",
       "      <td>13:46:33.006000</td>\n",
       "    </tr>\n",
       "    <tr>\n",
       "      <th>4</th>\n",
       "      <td>13</td>\n",
       "      <td>card</td>\n",
       "      <td>38.7</td>\n",
       "      <td>Latte</td>\n",
       "      <td>Afternoon</td>\n",
       "      <td>Fri</td>\n",
       "      <td>Mar</td>\n",
       "      <td>5</td>\n",
       "      <td>3</td>\n",
       "      <td>2024-03-01</td>\n",
       "      <td>13:48:14.626000</td>\n",
       "    </tr>\n",
       "  </tbody>\n",
       "</table>\n",
       "</div>"
      ],
      "text/plain": [
       "   hour_of_day cash_type  money    coffee_name Time_of_Day Weekday Month_name  \\\n",
       "0           10      card   38.7          Latte     Morning     Fri        Mar   \n",
       "1           12      card   38.7  Hot Chocolate   Afternoon     Fri        Mar   \n",
       "2           12      card   38.7  Hot Chocolate   Afternoon     Fri        Mar   \n",
       "3           13      card   28.9      Americano   Afternoon     Fri        Mar   \n",
       "4           13      card   38.7          Latte   Afternoon     Fri        Mar   \n",
       "\n",
       "   Weekdaysort  Monthsort       Date             Time  \n",
       "0            5          3 2024-03-01  10:15:50.520000  \n",
       "1            5          3 2024-03-01  12:19:22.539000  \n",
       "2            5          3 2024-03-01  12:20:18.089000  \n",
       "3            5          3 2024-03-01  13:46:33.006000  \n",
       "4            5          3 2024-03-01  13:48:14.626000  "
      ]
     },
     "execution_count": 30,
     "metadata": {},
     "output_type": "execute_result"
    }
   ],
   "source": [
    "df.head()"
   ]
  },
  {
   "cell_type": "code",
   "execution_count": 49,
   "id": "f7d0bb2f-e837-4157-85e3-a30c351d1541",
   "metadata": {},
   "outputs": [
    {
     "data": {
      "image/png": "[encoded data removed]",
      "text/plain": [
       "<Figure size 800x500 with 1 Axes>"
      ]
     },
     "metadata": {},
     "output_type": "display_data"
    }
   ],
   "source": [
    "df[\"coffee_name\"].value_counts().plot(kind=\"bar\", color = \"gold\", figsize = (8, 5))\n",
    "\n",
    "plt.xticks(rotation = 45)\n",
    "plt.tight_layout()\n",
    "plt.show()"
   ]
  },
  {
   "cell_type": "markdown",
   "id": "36bb6104-e219-413b-93c5-398fd0009492",
   "metadata": {},
   "source": [
    "## 5.Conclusion\n",
    "This analysis of coffee sales, grouped by coffee product and time of day, shows clear consumption patterns that influence peak demand.\n",
    "\n",
    "__Morning Dominance:__ Americano with Milk is the top morning seller, driven by customers seeking a substantial, milk-based caffeinated drink to start their day.\n",
    "\n",
    "__Afternoon & Night Preference:__ The Latte maintains a high sales volume across all periods, often leading in the Afternoon and Night, demonstrating its status as the most consistently popular, all-day choice.\n",
    "\n",
    "__Hot Beverage Niche:__ Non-coffee beverages like Hot Chocolate and Cocoa show their highest relative popularity during the Night, indicating a demand for comfort and non-caffeinated options later in the evening.\n",
    "\n",
    "Opportunity for Growth: Simpler, espresso-focused drinks like Espresso and Cortado have the lowest overall counts, suggesting an opportunity to promote these items or review their placement and pricing.\n",
    "\n",
    "Trends do depend on the day of the week, month or time of the day.\n",
    "- Sales are higher on march, october and february than april, january and july.\n",
    "- Sales are higher on Tuesday, Monday and Friday than on Sundays\n",
    "- Sales are higher at 10 am\n",
    "\n",
    "The best selling products are  -: - Latte\t26875.30\n",
    "                                - Americano with Milk\t24751.12\n",
    "                                - Cappuccino\t17439.14\n",
    "                                            "
   ]
  },
  {
   "cell_type": "markdown",
   "id": "5121d0ca-3adc-4fab-852b-6399c997bb29",
   "metadata": {},
   "source": [
    "## 6. Recommendation\n",
    "To maximize revenue and efficiency-:\n",
    "\n",
    "* __Morning Rush:__ Prioritize Americano with Milk and its ingredients (milk and espresso shots) for immediate access. \n",
    "\n",
    "* __All-Day Staple:__ Ensure Latte ingredients and staffing are robust, especially from the Afternoon into Night, as it is the most consistent top earner.\n",
    "\n",
    "* __Peak Time Staffing:__ Focus scheduling efforts to ensure maximum staff availability around the 10 AM peak hour, and on Tuesday, Monday, and Friday, * which are the highest sales days.\n",
    "\n",
    "*  Concentrate major marketing campaigns and limited-time offers during the peak months of March, October, and February to capitalize on existing high demand.\n",
    "*  Actively promote Hot Chocolate and Cocoa in the evenings."
   ]
  }
 ],
 "metadata": {
  "kernelspec": {
   "display_name": "Python 3 (ipykernel)",
   "language": "python",
   "name": "python3"
  },
  "language_info": {
   "codemirror_mode": {
    "name": "ipython",
    "version": 3
   },
   "file_extension": ".py",
   "mimetype": "text/x-python",
   "name": "python",
   "nbconvert_exporter": "python",
   "pygments_lexer": "ipython3",
   "version": "3.13.5"
  }
 },
 "nbformat": 4,
 "nbformat_minor": 5
}
